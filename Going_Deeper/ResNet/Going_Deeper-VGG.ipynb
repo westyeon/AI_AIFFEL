{
 "cells": [
  {
   "cell_type": "markdown",
   "id": "floral-subscription",
   "metadata": {},
   "source": [
    "# Going Deeper 2. 없다면 어떻게 될까? (ResNet Ablation Study)\n",
    "\n",
    "-------------------------------------\n",
    "\n",
    "Ablation Study 실습      \n",
    "\n",
    "[논문](https://arxiv.org/pdf/1512.03385.pdf)을 토대로 구현해보도록 하겠습니다"
   ]
  },
  {
   "cell_type": "markdown",
   "id": "polish-oracle",
   "metadata": {},
   "source": [
    "## (1) CIFAR-10 데이터셋 준비하기"
   ]
  },
  {
   "cell_type": "markdown",
   "id": "generous-warrant",
   "metadata": {},
   "source": [
    "### 1-1) CIFAR-10"
   ]
  },
  {
   "cell_type": "code",
   "execution_count": 37,
   "id": "engaged-charles",
   "metadata": {},
   "outputs": [],
   "source": [
    "# TensorFlow and tf.keras\n",
    "import tensorflow as tf\n",
    "from tensorflow import keras\n",
    "from tensorflow.keras.layers import Conv2D\n",
    "\n",
    "# Helper libraries\n",
    "import numpy as np\n",
    "import matplotlib.pyplot as plt\n",
    "\n",
    "import tensorflow_datasets as tfds"
   ]
  },
  {
   "cell_type": "code",
   "execution_count": 2,
   "id": "given-friend",
   "metadata": {},
   "outputs": [
    {
     "data": {
      "text/plain": [
       "[PhysicalDevice(name='/physical_device:GPU:0', device_type='GPU')]"
      ]
     },
     "execution_count": 2,
     "metadata": {},
     "output_type": "execute_result"
    }
   ],
   "source": [
    "# Tensorflow가 활용할 GPU가 장착되어있는지 확인해보겠습니다!\n",
    "tf.config.list_physical_devices('GPU')"
   ]
  },
  {
   "cell_type": "code",
   "execution_count": 3,
   "id": "corporate-musician",
   "metadata": {},
   "outputs": [
    {
     "name": "stdout",
     "output_type": "stream",
     "text": [
      "\u001b[1mDownloading and preparing dataset 162.17 MiB (download: 162.17 MiB, generated: 132.40 MiB, total: 294.58 MiB) to /aiffel/tensorflow_datasets/cifar10/3.0.2...\u001b[0m\n"
     ]
    },
    {
     "data": {
      "application/vnd.jupyter.widget-view+json": {
       "model_id": "53e81d8c41864a2699af41a425f85ede",
       "version_major": 2,
       "version_minor": 0
      },
      "text/plain": [
       "Dl Completed...: 0 url [00:00, ? url/s]"
      ]
     },
     "metadata": {},
     "output_type": "display_data"
    },
    {
     "data": {
      "application/vnd.jupyter.widget-view+json": {
       "model_id": "4e6ebaa62dc4441aa06a5daaf867e71b",
       "version_major": 2,
       "version_minor": 0
      },
      "text/plain": [
       "Dl Size...: 0 MiB [00:00, ? MiB/s]"
      ]
     },
     "metadata": {},
     "output_type": "display_data"
    },
    {
     "data": {
      "application/vnd.jupyter.widget-view+json": {
       "model_id": "c172002b61604dfd8fa24a1fd496e740",
       "version_major": 2,
       "version_minor": 0
      },
      "text/plain": [
       "Extraction completed...: 0 file [00:00, ? file/s]"
      ]
     },
     "metadata": {},
     "output_type": "display_data"
    },
    {
     "name": "stdout",
     "output_type": "stream",
     "text": [
      "\n",
      "\n",
      "\n"
     ]
    },
    {
     "data": {
      "application/vnd.jupyter.widget-view+json": {
       "model_id": "",
       "version_major": 2,
       "version_minor": 0
      },
      "text/plain": [
       "Generating splits...:   0%|          | 0/2 [00:00<?, ? splits/s]"
      ]
     },
     "metadata": {},
     "output_type": "display_data"
    },
    {
     "data": {
      "application/vnd.jupyter.widget-view+json": {
       "model_id": "",
       "version_major": 2,
       "version_minor": 0
      },
      "text/plain": [
       "Generating train examples...:   0%|          | 0/50000 [00:00<?, ? examples/s]"
      ]
     },
     "metadata": {},
     "output_type": "display_data"
    },
    {
     "data": {
      "application/vnd.jupyter.widget-view+json": {
       "model_id": "",
       "version_major": 2,
       "version_minor": 0
      },
      "text/plain": [
       "Shuffling cifar10-train.tfrecord...:   0%|          | 0/50000 [00:00<?, ? examples/s]"
      ]
     },
     "metadata": {},
     "output_type": "display_data"
    },
    {
     "data": {
      "application/vnd.jupyter.widget-view+json": {
       "model_id": "",
       "version_major": 2,
       "version_minor": 0
      },
      "text/plain": [
       "Generating test examples...:   0%|          | 0/10000 [00:00<?, ? examples/s]"
      ]
     },
     "metadata": {},
     "output_type": "display_data"
    },
    {
     "data": {
      "application/vnd.jupyter.widget-view+json": {
       "model_id": "",
       "version_major": 2,
       "version_minor": 0
      },
      "text/plain": [
       "Shuffling cifar10-test.tfrecord...:   0%|          | 0/10000 [00:00<?, ? examples/s]"
      ]
     },
     "metadata": {},
     "output_type": "display_data"
    },
    {
     "name": "stdout",
     "output_type": "stream",
     "text": [
      "\u001b[1mDataset cifar10 downloaded and prepared to /aiffel/tensorflow_datasets/cifar10/3.0.2. Subsequent calls will reuse this data.\u001b[0m\n"
     ]
    }
   ],
   "source": [
    "import urllib3\n",
    "urllib3.disable_warnings()\n",
    "\n",
    "#tfds.disable_progress_bar()   # 이 주석을 풀면 데이터셋 다운로드과정의 프로그레스바가 나타나지 않습니다.\n",
    "\n",
    "(ds_train, ds_test), ds_info = tfds.load(\n",
    "    'cifar10',\n",
    "    split=['train', 'test'],\n",
    "    shuffle_files=True,\n",
    "    with_info=True,\n",
    ")"
   ]
  },
  {
   "cell_type": "code",
   "execution_count": 20,
   "id": "reverse-astrology",
   "metadata": {},
   "outputs": [
    {
     "name": "stdout",
     "output_type": "stream",
     "text": [
      "FeaturesDict({\n",
      "    'id': Text(shape=(), dtype=tf.string),\n",
      "    'image': Image(shape=(32, 32, 3), dtype=tf.uint8),\n",
      "    'label': ClassLabel(shape=(), dtype=tf.int64, num_classes=10),\n",
      "})\n"
     ]
    }
   ],
   "source": [
    "# Tensorflow 데이터셋을 로드했으니 feature정보를 확인해보도록 하겠습니다!\n",
    "print(ds_info.features)"
   ]
  },
  {
   "cell_type": "code",
   "execution_count": 21,
   "id": "experimental-inspection",
   "metadata": {},
   "outputs": [
    {
     "name": "stdout",
     "output_type": "stream",
     "text": [
      "tf.Tensor(50000, shape=(), dtype=int64)\n",
      "tf.Tensor(10000, shape=(), dtype=int64)\n"
     ]
    }
   ],
   "source": [
    "# 데이터의 개수도 확인해봅시다!\n",
    "print(tf.data.experimental.cardinality(ds_train))\n",
    "print(tf.data.experimental.cardinality(ds_test))"
   ]
  },
  {
   "cell_type": "markdown",
   "id": "filled-imperial",
   "metadata": {},
   "source": [
    "🔼 tensorflow데이터셋은 numpy가 아니라서 ds_train.shape가 존재하지 않음"
   ]
  },
  {
   "cell_type": "markdown",
   "id": "violent-folks",
   "metadata": {},
   "source": [
    "### 1-2) Input Normalization"
   ]
  },
  {
   "cell_type": "code",
   "execution_count": 22,
   "id": "large-france",
   "metadata": {},
   "outputs": [],
   "source": [
    "def normalize_and_resize_img(image, label):\n",
    "    \"\"\"Normalizes images: 'uint8'->'float32'.\"\"\"\n",
    "    # image = tf.image.resize(image,[32,32])\n",
    "    return tf.cast(image,tf.float32)/255.,label"
   ]
  },
  {
   "cell_type": "code",
   "execution_count": 23,
   "id": "southwest-republic",
   "metadata": {},
   "outputs": [],
   "source": [
    "def apply_normalize_on_dataset(ds,is_test=False, batch_size=16):\n",
    "    ds=ds.map(\n",
    "        normalize_and_resize_img,\n",
    "        num_parallel_calls=1\n",
    "    )\n",
    "    ds = ds.batch(batch_size)\n",
    "    if not is_test:\n",
    "        ds = ds.repeat()\n",
    "        ds = ds.shuffle(200)\n",
    "    ds = ds.prefetch(tf.data.experimental.AUTOTUNE)\n",
    "    return ds"
   ]
  },
  {
   "cell_type": "markdown",
   "id": "tired-witness",
   "metadata": {},
   "source": [
    "🔽 MNIST 데이터셋 클래스는 0부터 9까지 숫자, 총 10가지가 있습니다!"
   ]
  },
  {
   "cell_type": "code",
   "execution_count": 24,
   "id": "vocal-corruption",
   "metadata": {},
   "outputs": [
    {
     "data": {
      "text/plain": [
       "10"
      ]
     },
     "execution_count": 24,
     "metadata": {},
     "output_type": "execute_result"
    }
   ],
   "source": [
    "ds_info.features[\"label\"].num_classes"
   ]
  },
  {
   "cell_type": "markdown",
   "id": "painful-beginning",
   "metadata": {},
   "source": [
    "🔽 각 코드로 클래스가 어떻게 구성되어있는지, 어떤 이미지가 있는지 확인해보도록 하겠습니다"
   ]
  },
  {
   "cell_type": "code",
   "execution_count": 25,
   "id": "voluntary-sense",
   "metadata": {},
   "outputs": [
    {
     "data": {
      "text/plain": [
       "['airplane',\n",
       " 'automobile',\n",
       " 'bird',\n",
       " 'cat',\n",
       " 'deer',\n",
       " 'dog',\n",
       " 'frog',\n",
       " 'horse',\n",
       " 'ship',\n",
       " 'truck']"
      ]
     },
     "execution_count": 25,
     "metadata": {},
     "output_type": "execute_result"
    }
   ],
   "source": [
    "ds_info.features[\"label\"].names"
   ]
  },
  {
   "cell_type": "code",
   "execution_count": 26,
   "id": "right-stockholm",
   "metadata": {},
   "outputs": [
    {
     "data": {
      "image/png": "[encoded data removed]",
      "text/plain": [
       "<Figure size 648x648 with 9 Axes>"
      ]
     },
     "metadata": {},
     "output_type": "display_data"
    }
   ],
   "source": [
    "fig = tfds.show_examples(ds_train, ds_info)"
   ]
  },
  {
   "cell_type": "code",
   "execution_count": 27,
   "id": "agricultural-respondent",
   "metadata": {},
   "outputs": [
    {
     "data": {
      "image/png": "[encoded data removed]",
      "text/plain": [
       "<Figure size 648x648 with 9 Axes>"
      ]
     },
     "metadata": {},
     "output_type": "display_data"
    }
   ],
   "source": [
    "fig = tfds.show_examples(ds_test, ds_info)"
   ]
  },
  {
   "cell_type": "markdown",
   "id": "previous-municipality",
   "metadata": {},
   "source": [
    "## (2) 블록 구성하기    \n",
    "\n",
    "---------------------------\n",
    "\n",
    "* 모델을 프로그램으로 구현하는 과정에서 논문의 모델을 그대로 구현하는 것도 중요하지만\n",
    "* 하이퍼파라미터 또는 변수를 변경하거나 모델 구조가 변경될 때 손쉽게 바꿀 수 있도록 만들어 놓는 것이 필요\n",
    "* 블록 : 주요 구조를 모듈화 시켜 조금씩 바꾸어 쓸 수 있는 단위   \n",
    "* 레이어(layer) : 텐서플로우(TensorFlow), 케라스(Keras), 파이토치(PyTorch) 등에서 기본적으로 제공하는 단위   \n",
    "\n",
    "\n",
    "* 프로젝트로 구현할 ResNet을 보면 ResNet-18, 34, 50, 101, 152로 다섯 가지 네트워크가 있는데, 각 네트워크를 하나씩 구현하는 방법도 있지만 매우 수고스럽고 변경사항이 생기면 모두 고쳐줘야 하는 불편함이 생기게 되므로 ResNet의 기본 구조인 블록을 먼저 구현해보도록 하겠습니다."
   ]
  },
  {
   "cell_type": "markdown",
   "id": "aggregate-found",
   "metadata": {},
   "source": [
    "### 2-1) VGG 기본 블록 만들기"
   ]
  },
  {
   "cell_type": "code",
   "execution_count": 39,
   "id": "faced-willow",
   "metadata": {},
   "outputs": [],
   "source": [
    "# function for building VGG Block\n",
    "\n",
    "def build_vgg_block(input_layer,\n",
    "                    num_cnn=3, \n",
    "                    channel=64,\n",
    "                    block_num=1,\n",
    "                   ):\n",
    "    # 입력 레이어\n",
    "    x = input_layer\n",
    "\n",
    "    # CNN 레이어\n",
    "    for cnn_num in range(num_cnn):\n",
    "        x = keras.layers.Conv2D(\n",
    "            filters=channel,\n",
    "            kernel_size=(3,3),\n",
    "            activation='relu',\n",
    "            kernel_initializer='he_normal',\n",
    "            padding='same',\n",
    "            name=f'block{block_num}_conv{cnn_num}'\n",
    "        )(x)    \n",
    "\n",
    "    # Max Pooling 레이어\n",
    "    x = keras.layers.MaxPooling2D(\n",
    "        pool_size=(2, 2),\n",
    "        strides=2,\n",
    "        name=f'block{block_num}_pooling'\n",
    "    )(x)\n",
    "\n",
    "    return x"
   ]
  },
  {
   "cell_type": "code",
   "execution_count": 40,
   "id": "falling-movie",
   "metadata": {},
   "outputs": [],
   "source": [
    "vgg_input_layer = keras.layers.Input(shape=(32,32,3))   # 입력 레이어 생성\n",
    "vgg_block_output = build_vgg_block(vgg_input_layer)    # VGG 블록 생성"
   ]
  },
  {
   "cell_type": "code",
   "execution_count": 41,
   "id": "conventional-responsibility",
   "metadata": {},
   "outputs": [
    {
     "name": "stdout",
     "output_type": "stream",
     "text": [
      "Model: \"model\"\n",
      "_________________________________________________________________\n",
      "Layer (type)                 Output Shape              Param #   \n",
      "=================================================================\n",
      "input_9 (InputLayer)         [(None, 32, 32, 3)]       0         \n",
      "_________________________________________________________________\n",
      "block1_conv0 (Conv2D)        (None, 32, 32, 64)        1792      \n",
      "_________________________________________________________________\n",
      "block1_conv1 (Conv2D)        (None, 32, 32, 64)        36928     \n",
      "_________________________________________________________________\n",
      "block1_conv2 (Conv2D)        (None, 32, 32, 64)        36928     \n",
      "_________________________________________________________________\n",
      "block1_pooling (MaxPooling2D (None, 16, 16, 64)        0         \n",
      "=================================================================\n",
      "Total params: 75,648\n",
      "Trainable params: 75,648\n",
      "Non-trainable params: 0\n",
      "_________________________________________________________________\n"
     ]
    }
   ],
   "source": [
    "# 블록 1개짜리 model 생성\n",
    "model = keras.Model(inputs=vgg_input_layer, outputs=vgg_block_output)  \n",
    "\n",
    "model.summary()"
   ]
  },
  {
   "cell_type": "markdown",
   "id": "internal-orange",
   "metadata": {},
   "source": [
    "## (3) VGG Complete Model"
   ]
  },
  {
   "cell_type": "markdown",
   "id": "enabling-visibility",
   "metadata": {},
   "source": [
    "### 3-1) VGG-16"
   ]
  },
  {
   "cell_type": "code",
   "execution_count": 42,
   "id": "adapted-parking",
   "metadata": {},
   "outputs": [],
   "source": [
    "# VGG 모델 자체를 생성하는 함수입니다.\n",
    "def build_vgg(input_shape=(32,32,3),\n",
    "              num_cnn_list=[2,2,3,3,3],\n",
    "              channel_list=[64,128,256,512,512],\n",
    "              num_classes=10):\n",
    "    \n",
    "    assert len(num_cnn_list) == len(channel_list) #모델을 만들기 전에 config list들이 같은 길이인지 확인합니다.\n",
    "    \n",
    "    input_layer = keras.layers.Input(shape=input_shape)  # input layer를 만들어둡니다.\n",
    "    output = input_layer\n",
    "    \n",
    "    # config list들의 길이만큼 반복해서 블록을 생성합니다.\n",
    "    for i, (num_cnn, channel) in enumerate(zip(num_cnn_list, channel_list)):\n",
    "        output = build_vgg_block(\n",
    "            output,\n",
    "            num_cnn=num_cnn, \n",
    "            channel=channel,\n",
    "            block_num=i\n",
    "        )\n",
    "        \n",
    "    output = keras.layers.Flatten(name='flatten')(output)\n",
    "    output = keras.layers.Dense(4096, activation='relu', name='fc1')(output)\n",
    "    output = keras.layers.Dense(4096, activation='relu', name='fc2')(output)\n",
    "    output = keras.layers.Dense(num_classes, activation='softmax', name='predictions')(output)\n",
    "    \n",
    "    model = keras.Model(\n",
    "        inputs=input_layer, \n",
    "        outputs=output\n",
    "    )\n",
    "    return model"
   ]
  },
  {
   "cell_type": "code",
   "execution_count": 43,
   "id": "polar-retailer",
   "metadata": {},
   "outputs": [
    {
     "name": "stdout",
     "output_type": "stream",
     "text": [
      "Model: \"model_1\"\n",
      "_________________________________________________________________\n",
      "Layer (type)                 Output Shape              Param #   \n",
      "=================================================================\n",
      "input_10 (InputLayer)        [(None, 32, 32, 3)]       0         \n",
      "_________________________________________________________________\n",
      "block0_conv0 (Conv2D)        (None, 32, 32, 64)        1792      \n",
      "_________________________________________________________________\n",
      "block0_conv1 (Conv2D)        (None, 32, 32, 64)        36928     \n",
      "_________________________________________________________________\n",
      "block0_pooling (MaxPooling2D (None, 16, 16, 64)        0         \n",
      "_________________________________________________________________\n",
      "block1_conv0 (Conv2D)        (None, 16, 16, 128)       73856     \n",
      "_________________________________________________________________\n",
      "block1_conv1 (Conv2D)        (None, 16, 16, 128)       147584    \n",
      "_________________________________________________________________\n",
      "block1_pooling (MaxPooling2D (None, 8, 8, 128)         0         \n",
      "_________________________________________________________________\n",
      "block2_conv0 (Conv2D)        (None, 8, 8, 256)         295168    \n",
      "_________________________________________________________________\n",
      "block2_conv1 (Conv2D)        (None, 8, 8, 256)         590080    \n",
      "_________________________________________________________________\n",
      "block2_conv2 (Conv2D)        (None, 8, 8, 256)         590080    \n",
      "_________________________________________________________________\n",
      "block2_pooling (MaxPooling2D (None, 4, 4, 256)         0         \n",
      "_________________________________________________________________\n",
      "block3_conv0 (Conv2D)        (None, 4, 4, 512)         1180160   \n",
      "_________________________________________________________________\n",
      "block3_conv1 (Conv2D)        (None, 4, 4, 512)         2359808   \n",
      "_________________________________________________________________\n",
      "block3_conv2 (Conv2D)        (None, 4, 4, 512)         2359808   \n",
      "_________________________________________________________________\n",
      "block3_pooling (MaxPooling2D (None, 2, 2, 512)         0         \n",
      "_________________________________________________________________\n",
      "block4_conv0 (Conv2D)        (None, 2, 2, 512)         2359808   \n",
      "_________________________________________________________________\n",
      "block4_conv1 (Conv2D)        (None, 2, 2, 512)         2359808   \n",
      "_________________________________________________________________\n",
      "block4_conv2 (Conv2D)        (None, 2, 2, 512)         2359808   \n",
      "_________________________________________________________________\n",
      "block4_pooling (MaxPooling2D (None, 1, 1, 512)         0         \n",
      "_________________________________________________________________\n",
      "flatten (Flatten)            (None, 512)               0         \n",
      "_________________________________________________________________\n",
      "fc1 (Dense)                  (None, 4096)              2101248   \n",
      "_________________________________________________________________\n",
      "fc2 (Dense)                  (None, 4096)              16781312  \n",
      "_________________________________________________________________\n",
      "predictions (Dense)          (None, 10)                40970     \n",
      "=================================================================\n",
      "Total params: 33,638,218\n",
      "Trainable params: 33,638,218\n",
      "Non-trainable params: 0\n",
      "_________________________________________________________________\n"
     ]
    }
   ],
   "source": [
    "# 기본값을 그대로 사용해서 VGG 모델을 만들면 VGG-16이 됩니다.\n",
    "vgg_16 = build_vgg()\n",
    "\n",
    "vgg_16.summary()"
   ]
  },
  {
   "cell_type": "markdown",
   "id": "conditional-musical",
   "metadata": {},
   "source": [
    "### 3-2) VGG-19"
   ]
  },
  {
   "cell_type": "code",
   "execution_count": 44,
   "id": "diagnostic-acquisition",
   "metadata": {},
   "outputs": [
    {
     "name": "stdout",
     "output_type": "stream",
     "text": [
      "Model: \"model_2\"\n",
      "_________________________________________________________________\n",
      "Layer (type)                 Output Shape              Param #   \n",
      "=================================================================\n",
      "input_11 (InputLayer)        [(None, 32, 32, 3)]       0         \n",
      "_________________________________________________________________\n",
      "block0_conv0 (Conv2D)        (None, 32, 32, 64)        1792      \n",
      "_________________________________________________________________\n",
      "block0_conv1 (Conv2D)        (None, 32, 32, 64)        36928     \n",
      "_________________________________________________________________\n",
      "block0_pooling (MaxPooling2D (None, 16, 16, 64)        0         \n",
      "_________________________________________________________________\n",
      "block1_conv0 (Conv2D)        (None, 16, 16, 128)       73856     \n",
      "_________________________________________________________________\n",
      "block1_conv1 (Conv2D)        (None, 16, 16, 128)       147584    \n",
      "_________________________________________________________________\n",
      "block1_pooling (MaxPooling2D (None, 8, 8, 128)         0         \n",
      "_________________________________________________________________\n",
      "block2_conv0 (Conv2D)        (None, 8, 8, 256)         295168    \n",
      "_________________________________________________________________\n",
      "block2_conv1 (Conv2D)        (None, 8, 8, 256)         590080    \n",
      "_________________________________________________________________\n",
      "block2_conv2 (Conv2D)        (None, 8, 8, 256)         590080    \n",
      "_________________________________________________________________\n",
      "block2_conv3 (Conv2D)        (None, 8, 8, 256)         590080    \n",
      "_________________________________________________________________\n",
      "block2_pooling (MaxPooling2D (None, 4, 4, 256)         0         \n",
      "_________________________________________________________________\n",
      "block3_conv0 (Conv2D)        (None, 4, 4, 512)         1180160   \n",
      "_________________________________________________________________\n",
      "block3_conv1 (Conv2D)        (None, 4, 4, 512)         2359808   \n",
      "_________________________________________________________________\n",
      "block3_conv2 (Conv2D)        (None, 4, 4, 512)         2359808   \n",
      "_________________________________________________________________\n",
      "block3_conv3 (Conv2D)        (None, 4, 4, 512)         2359808   \n",
      "_________________________________________________________________\n",
      "block3_pooling (MaxPooling2D (None, 2, 2, 512)         0         \n",
      "_________________________________________________________________\n",
      "block4_conv0 (Conv2D)        (None, 2, 2, 512)         2359808   \n",
      "_________________________________________________________________\n",
      "block4_conv1 (Conv2D)        (None, 2, 2, 512)         2359808   \n",
      "_________________________________________________________________\n",
      "block4_conv2 (Conv2D)        (None, 2, 2, 512)         2359808   \n",
      "_________________________________________________________________\n",
      "block4_conv3 (Conv2D)        (None, 2, 2, 512)         2359808   \n",
      "_________________________________________________________________\n",
      "block4_pooling (MaxPooling2D (None, 1, 1, 512)         0         \n",
      "_________________________________________________________________\n",
      "flatten (Flatten)            (None, 512)               0         \n",
      "_________________________________________________________________\n",
      "fc1 (Dense)                  (None, 4096)              2101248   \n",
      "_________________________________________________________________\n",
      "fc2 (Dense)                  (None, 4096)              16781312  \n",
      "_________________________________________________________________\n",
      "predictions (Dense)          (None, 10)                40970     \n",
      "=================================================================\n",
      "Total params: 38,947,914\n",
      "Trainable params: 38,947,914\n",
      "Non-trainable params: 0\n",
      "_________________________________________________________________\n"
     ]
    }
   ],
   "source": [
    "# 원하는 블록의 설계에 따라 매개변수로 리스트를 전달해 줍니다.\n",
    "vgg_19 = build_vgg(\n",
    "    num_cnn_list=[2,2,4,4,4],\n",
    "    channel_list=[64,128,256,512,512]\n",
    ")\n",
    "\n",
    "vgg_19.summary()"
   ]
  },
  {
   "cell_type": "markdown",
   "id": "metallic-effect",
   "metadata": {},
   "source": [
    "## (4) VGG-16 vs VGG-19\n",
    "\n",
    "--------------------------------\n",
    "\n",
    "* 모델의 성능 비교를 위해서 모델을 훈련하고 평가해보도록 하겠습니다!\n",
    "* GG는 레이어의 차이를 위해서 VGG-16과 VGG-19를 비교해보도록 할께요"
   ]
  },
  {
   "cell_type": "markdown",
   "id": "incomplete-heritage",
   "metadata": {},
   "source": [
    "우선 CIFAR-10 데이터셋을 불러옵시다."
   ]
  },
  {
   "cell_type": "code",
   "execution_count": 45,
   "id": "reliable-senator",
   "metadata": {},
   "outputs": [],
   "source": [
    "BATCH_SIZE = 256\n",
    "EPOCH = 20"
   ]
  },
  {
   "cell_type": "code",
   "execution_count": 46,
   "id": "common-pizza",
   "metadata": {},
   "outputs": [],
   "source": [
    "(ds_train, ds_test), ds_info = tfds.load(\n",
    "    'cifar10',\n",
    "    split=['train', 'test'],\n",
    "    as_supervised=True,\n",
    "    shuffle_files=True,\n",
    "    with_info=True,\n",
    ")\n",
    "ds_train = apply_normalize_on_dataset(ds_train, batch_size=BATCH_SIZE)\n",
    "ds_test = apply_normalize_on_dataset(ds_test, batch_size=BATCH_SIZE)"
   ]
  },
  {
   "cell_type": "markdown",
   "id": "mobile-trigger",
   "metadata": {},
   "source": [
    "VGG-16 모델을 만들고 훈련시켜 줍니다."
   ]
  },
  {
   "cell_type": "code",
   "execution_count": 47,
   "id": "missing-vinyl",
   "metadata": {},
   "outputs": [
    {
     "name": "stdout",
     "output_type": "stream",
     "text": [
      "Epoch 1/20\n",
      "195/195 [==============================] - 89s 339ms/step - loss: 2.2544 - accuracy: 0.1483 - val_loss: 2.1031 - val_accuracy: 0.1939\n",
      "Epoch 2/20\n",
      "195/195 [==============================] - 46s 238ms/step - loss: 2.0400 - accuracy: 0.2630 - val_loss: 1.9211 - val_accuracy: 0.3176\n",
      "Epoch 3/20\n",
      "195/195 [==============================] - 47s 240ms/step - loss: 1.8893 - accuracy: 0.3146 - val_loss: 1.7656 - val_accuracy: 0.3699\n",
      "Epoch 4/20\n",
      "195/195 [==============================] - 47s 239ms/step - loss: 1.7714 - accuracy: 0.3588 - val_loss: 1.7062 - val_accuracy: 0.3873\n",
      "Epoch 5/20\n",
      "195/195 [==============================] - 47s 240ms/step - loss: 1.6801 - accuracy: 0.3958 - val_loss: 1.6564 - val_accuracy: 0.4038\n",
      "Epoch 6/20\n",
      "195/195 [==============================] - 47s 241ms/step - loss: 1.6265 - accuracy: 0.4140 - val_loss: 1.5728 - val_accuracy: 0.4201\n",
      "Epoch 7/20\n",
      "195/195 [==============================] - 47s 240ms/step - loss: 1.5689 - accuracy: 0.4366 - val_loss: 1.5322 - val_accuracy: 0.4559\n",
      "Epoch 8/20\n",
      "195/195 [==============================] - 47s 241ms/step - loss: 1.5155 - accuracy: 0.4514 - val_loss: 1.4704 - val_accuracy: 0.4701\n",
      "Epoch 9/20\n",
      "195/195 [==============================] - 47s 241ms/step - loss: 1.4799 - accuracy: 0.4687 - val_loss: 1.4769 - val_accuracy: 0.4690\n",
      "Epoch 10/20\n",
      "195/195 [==============================] - 47s 240ms/step - loss: 1.4350 - accuracy: 0.4820 - val_loss: 1.3875 - val_accuracy: 0.5080\n",
      "Epoch 11/20\n",
      "195/195 [==============================] - 47s 241ms/step - loss: 1.4039 - accuracy: 0.4952 - val_loss: 1.4304 - val_accuracy: 0.4866\n",
      "Epoch 12/20\n",
      "195/195 [==============================] - 47s 242ms/step - loss: 1.3595 - accuracy: 0.5156 - val_loss: 1.3615 - val_accuracy: 0.5141\n",
      "Epoch 13/20\n",
      "195/195 [==============================] - 47s 240ms/step - loss: 1.3260 - accuracy: 0.5270 - val_loss: 1.3015 - val_accuracy: 0.5384\n",
      "Epoch 14/20\n",
      "195/195 [==============================] - 47s 241ms/step - loss: 1.2927 - accuracy: 0.5350 - val_loss: 1.3217 - val_accuracy: 0.5326\n",
      "Epoch 15/20\n",
      "195/195 [==============================] - 47s 240ms/step - loss: 1.2582 - accuracy: 0.5509 - val_loss: 1.2455 - val_accuracy: 0.5539\n",
      "Epoch 16/20\n",
      "195/195 [==============================] - 47s 241ms/step - loss: 1.2288 - accuracy: 0.5572 - val_loss: 1.2793 - val_accuracy: 0.5585\n",
      "Epoch 17/20\n",
      "195/195 [==============================] - 47s 242ms/step - loss: 1.1903 - accuracy: 0.5773 - val_loss: 1.2204 - val_accuracy: 0.5731\n",
      "Epoch 18/20\n",
      "195/195 [==============================] - 47s 241ms/step - loss: 1.1549 - accuracy: 0.5891 - val_loss: 1.2243 - val_accuracy: 0.5742\n",
      "Epoch 19/20\n",
      "195/195 [==============================] - 47s 240ms/step - loss: 1.1226 - accuracy: 0.6053 - val_loss: 1.1705 - val_accuracy: 0.5783\n",
      "Epoch 20/20\n",
      "195/195 [==============================] - 47s 241ms/step - loss: 1.1079 - accuracy: 0.6088 - val_loss: 1.1746 - val_accuracy: 0.5931\n"
     ]
    }
   ],
   "source": [
    "vgg_16.compile(\n",
    "    loss='sparse_categorical_crossentropy',\n",
    "    optimizer=tf.keras.optimizers.SGD(lr=0.01, clipnorm=1.),\n",
    "    metrics=['accuracy'],\n",
    ")\n",
    "\n",
    "history_16 = vgg_16.fit(\n",
    "    ds_train,\n",
    "    steps_per_epoch=int(ds_info.splits['train'].num_examples/BATCH_SIZE),\n",
    "    validation_steps=int(ds_info.splits['test'].num_examples/BATCH_SIZE),\n",
    "    epochs=EPOCH,\n",
    "    validation_data=ds_test,\n",
    "    verbose=1,\n",
    "    use_multiprocessing=True,\n",
    ")"
   ]
  },
  {
   "cell_type": "markdown",
   "id": "shared-civilization",
   "metadata": {},
   "source": [
    "VGG-19 모델을 만들고 훈련시켜 줍니다."
   ]
  },
  {
   "cell_type": "code",
   "execution_count": 48,
   "id": "closed-invitation",
   "metadata": {},
   "outputs": [
    {
     "name": "stdout",
     "output_type": "stream",
     "text": [
      "Epoch 1/20\n",
      "195/195 [==============================] - 60s 281ms/step - loss: 2.2883 - accuracy: 0.1352 - val_loss: 2.1927 - val_accuracy: 0.2099\n",
      "Epoch 2/20\n",
      "195/195 [==============================] - 55s 283ms/step - loss: 2.1285 - accuracy: 0.2115 - val_loss: 1.9852 - val_accuracy: 0.2948\n",
      "Epoch 3/20\n",
      "195/195 [==============================] - 55s 285ms/step - loss: 1.9672 - accuracy: 0.2868 - val_loss: 1.8801 - val_accuracy: 0.3177\n",
      "Epoch 4/20\n",
      "195/195 [==============================] - 56s 286ms/step - loss: 1.8373 - accuracy: 0.3349 - val_loss: 1.7736 - val_accuracy: 0.3625\n",
      "Epoch 5/20\n",
      "195/195 [==============================] - 56s 286ms/step - loss: 1.7359 - accuracy: 0.3680 - val_loss: 1.7257 - val_accuracy: 0.3622\n",
      "Epoch 6/20\n",
      "195/195 [==============================] - 56s 287ms/step - loss: 1.6614 - accuracy: 0.3976 - val_loss: 1.5652 - val_accuracy: 0.4408\n",
      "Epoch 7/20\n",
      "195/195 [==============================] - 56s 287ms/step - loss: 1.5882 - accuracy: 0.4256 - val_loss: 1.5915 - val_accuracy: 0.4418\n",
      "Epoch 8/20\n",
      "195/195 [==============================] - 56s 285ms/step - loss: 1.5403 - accuracy: 0.4413 - val_loss: 1.5006 - val_accuracy: 0.4522\n",
      "Epoch 9/20\n",
      "195/195 [==============================] - 56s 287ms/step - loss: 1.4989 - accuracy: 0.4565 - val_loss: 1.4305 - val_accuracy: 0.4855\n",
      "Epoch 10/20\n",
      "195/195 [==============================] - 56s 286ms/step - loss: 1.4329 - accuracy: 0.4784 - val_loss: 1.4362 - val_accuracy: 0.4828\n",
      "Epoch 11/20\n",
      "195/195 [==============================] - 56s 286ms/step - loss: 1.3886 - accuracy: 0.4963 - val_loss: 1.3768 - val_accuracy: 0.5031\n",
      "Epoch 12/20\n",
      "195/195 [==============================] - 56s 286ms/step - loss: 1.3575 - accuracy: 0.5056 - val_loss: 1.3026 - val_accuracy: 0.5355\n",
      "Epoch 13/20\n",
      "195/195 [==============================] - 56s 285ms/step - loss: 1.3108 - accuracy: 0.5267 - val_loss: 1.2826 - val_accuracy: 0.5380\n",
      "Epoch 14/20\n",
      "195/195 [==============================] - 56s 287ms/step - loss: 1.2681 - accuracy: 0.5413 - val_loss: 1.2369 - val_accuracy: 0.5510\n",
      "Epoch 15/20\n",
      "195/195 [==============================] - 56s 287ms/step - loss: 1.2334 - accuracy: 0.5544 - val_loss: 1.2336 - val_accuracy: 0.5598\n",
      "Epoch 16/20\n",
      "195/195 [==============================] - 56s 287ms/step - loss: 1.1940 - accuracy: 0.5690 - val_loss: 1.1970 - val_accuracy: 0.5804\n",
      "Epoch 17/20\n",
      "195/195 [==============================] - 56s 286ms/step - loss: 1.1510 - accuracy: 0.5830 - val_loss: 1.1823 - val_accuracy: 0.5704\n",
      "Epoch 18/20\n",
      "195/195 [==============================] - 56s 287ms/step - loss: 1.1357 - accuracy: 0.5890 - val_loss: 1.1659 - val_accuracy: 0.5812\n",
      "Epoch 19/20\n",
      "195/195 [==============================] - 56s 287ms/step - loss: 1.0898 - accuracy: 0.6138 - val_loss: 1.1336 - val_accuracy: 0.5959\n",
      "Epoch 20/20\n",
      "195/195 [==============================] - 56s 287ms/step - loss: 1.0641 - accuracy: 0.6214 - val_loss: 1.1358 - val_accuracy: 0.6043\n"
     ]
    }
   ],
   "source": [
    "vgg_19.compile(\n",
    "    loss='sparse_categorical_crossentropy',\n",
    "    optimizer=tf.keras.optimizers.SGD(lr=0.01, clipnorm=1.),\n",
    "    metrics=['accuracy'],\n",
    ")\n",
    "\n",
    "history_19 = vgg_19.fit(\n",
    "    ds_train,\n",
    "    steps_per_epoch=int(ds_info.splits['train'].num_examples/BATCH_SIZE),\n",
    "    validation_steps=int(ds_info.splits['test'].num_examples/BATCH_SIZE),\n",
    "    epochs=EPOCH,\n",
    "    validation_data=ds_test,\n",
    "    verbose=1,\n",
    "    use_multiprocessing=True,\n",
    ")"
   ]
  },
  {
   "cell_type": "markdown",
   "id": "complete-problem",
   "metadata": {},
   "source": [
    "이제 VGG-16과 VGG-19를 그래프를 그리고 비교해보도록 하겠습니다.       \n",
    "먼저 훈련 손실(training loss)이 어떻게 다르게 진행되는지 비교해볼께요!"
   ]
  },
  {
   "cell_type": "code",
   "execution_count": 49,
   "id": "studied-frost",
   "metadata": {},
   "outputs": [
    {
     "data": {
      "image/png": "[encoded data removed]",
      "text/plain": [
       "<Figure size 432x288 with 1 Axes>"
      ]
     },
     "metadata": {
      "needs_background": "light"
     },
     "output_type": "display_data"
    }
   ],
   "source": [
    "import matplotlib.pyplot as plt\n",
    "\n",
    "plt.plot(history_16.history['loss'], 'r')\n",
    "plt.plot(history_19.history['loss'], 'b')\n",
    "plt.title('Model training loss')\n",
    "plt.ylabel('Loss')\n",
    "plt.xlabel('Epoch')\n",
    "plt.legend(['vgg_16', 'vgg_19'], loc='upper left')\n",
    "plt.show()"
   ]
  },
  {
   "cell_type": "markdown",
   "id": "hybrid-intermediate",
   "metadata": {},
   "source": [
    "검증 정확도(validation accuracy)를 비교해볼께요"
   ]
  },
  {
   "cell_type": "code",
   "execution_count": 50,
   "id": "normal-housing",
   "metadata": {},
   "outputs": [
    {
     "data": {
      "image/png": "[encoded data removed]",
      "text/plain": [
       "<Figure size 432x288 with 1 Axes>"
      ]
     },
     "metadata": {
      "needs_background": "light"
     },
     "output_type": "display_data"
    }
   ],
   "source": [
    "plt.plot(history_16.history['val_accuracy'], 'r')\n",
    "plt.plot(history_19.history['val_accuracy'], 'b')\n",
    "plt.title('Model validation accuracy')\n",
    "plt.ylabel('Accuracy')\n",
    "plt.xlabel('Epoch')\n",
    "plt.legend(['vgg_16', 'vgg_19'], loc='upper left')\n",
    "plt.show()"
   ]
  }
 ],
 "metadata": {
  "kernelspec": {
   "display_name": "Python 3",
   "language": "python",
   "name": "python3"
  },
  "language_info": {
   "codemirror_mode": {
    "name": "ipython",
    "version": 3
   },
   "file_extension": ".py",
   "mimetype": "text/x-python",
   "name": "python",
   "nbconvert_exporter": "python",
   "pygments_lexer": "ipython3",
   "version": "3.7.9"
  }
 },
 "nbformat": 4,
 "nbformat_minor": 5
}
